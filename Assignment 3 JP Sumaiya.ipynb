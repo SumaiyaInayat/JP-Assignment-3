{
 "cells": [
  {
   "cell_type": "code",
   "execution_count": 1,
   "id": "e41d7554",
   "metadata": {},
   "outputs": [
    {
     "name": "stdout",
     "output_type": "stream",
     "text": [
      "Twinkle, twinkle, little star,\n",
      "\t How I wonder what you are!\n",
      "\t\t Up above the world so high,\n",
      "\t \t Like a diamond in the sky.\n",
      " Twinkle, twinkle, little star,\n",
      "\t How I wonder what you are\n"
     ]
    }
   ],
   "source": [
    "# Q1 Write a Python program to print the following string in a specific format \n",
    "# (see the output).\n",
    "# Twinkle, twinkle, little star,\n",
    "# How I wonder what you are!\n",
    "# Up above the world so high,\n",
    "# Like a diamond in the sky.\n",
    "\n",
    "# Twinkle, twinkle, little star,\n",
    "# How I wonder what you are\n",
    "\n",
    "print(\"Twinkle, twinkle, little star,\")\n",
    "print(\"\\t How I wonder what you are!\")\n",
    "print(\"\\t\\t Up above the world so high,\")\n",
    "print(\"\\t \\t Like a diamond in the sky.\")\n",
    "print(\" Twinkle, twinkle, little star,\")\n",
    "print(\"\\t How I wonder what you are\")"
   ]
  },
  {
   "cell_type": "code",
   "execution_count": 2,
   "id": "08cc0958",
   "metadata": {},
   "outputs": [
    {
     "name": "stdout",
     "output_type": "stream",
     "text": [
      "Python version\n",
      "3.8.8 (default, Apr 13 2021, 15:08:03) [MSC v.1916 64 bit (AMD64)]\n"
     ]
    }
   ],
   "source": [
    "\n",
    "# Q2 Write a Python program to get the Python version you are using\n",
    "import sys\n",
    "print(\"Python version\")\n",
    "print (sys.version)"
   ]
  },
  {
   "cell_type": "code",
   "execution_count": 3,
   "id": "59634227",
   "metadata": {},
   "outputs": [
    {
     "name": "stdout",
     "output_type": "stream",
     "text": [
      "Current Date And Time is : \n",
      "2021-10-24 15:45:45\n"
     ]
    }
   ],
   "source": [
    "\n",
    "# Q3 Write a Python program to display the current date and time.\n",
    "import datetime\n",
    "nopw=datetime.datetime.now()\n",
    "print(\"Current Date And Time is : \")\n",
    "print(nopw.strftime(\"%Y-%m-%d %H:%M:%S\"))"
   ]
  },
  {
   "cell_type": "code",
   "execution_count": 4,
   "id": "3afd56d5",
   "metadata": {},
   "outputs": [
    {
     "name": "stdout",
     "output_type": "stream",
     "text": [
      "Enter the radius of circle 5\n",
      "The area is  78.5\n"
     ]
    }
   ],
   "source": [
    "#Q4. Write a Python program which accepts the radius of a circle from the user and compute the area.\n",
    "\n",
    "pi=3.14\n",
    "rad=int (input(\"Enter the radius of circle \"))\n",
    "area=pi*rad*rad\n",
    "print(\"The area is \",area )"
   ]
  },
  {
   "cell_type": "code",
   "execution_count": 5,
   "id": "8b227b78",
   "metadata": {},
   "outputs": [
    {
     "name": "stdout",
     "output_type": "stream",
     "text": [
      "Enter your first namesumaiya\n",
      "Enter your last nameinayat\n",
      "Reverse Order is\n",
      "ayiamus tayani\n"
     ]
    }
   ],
   "source": [
    "#Q5. Write a Python program which accepts the user's first and last name and print them inreverse order with a space between them.\n",
    "fN=input(\"Enter your first name\")\n",
    "lN=input(\"Enter your last name\")\n",
    "print(\"Reverse Order is\")\n",
    "print(fN[::-1],lN[::-1])"
   ]
  },
  {
   "cell_type": "code",
   "execution_count": 6,
   "id": "26c40dec",
   "metadata": {},
   "outputs": [
    {
     "name": "stdout",
     "output_type": "stream",
     "text": [
      "Enter First Number6\n",
      "Enter Second Number87\n",
      "93\n"
     ]
    }
   ],
   "source": [
    "# Q6. Write a python program which takes two inputs from user and print them addition\n",
    "fNo=int(input(\"Enter First Number\"))\n",
    "sNo=int(input(\"Enter Second Number\"))\n",
    "print(fNo+sNo)"
   ]
  },
  {
   "cell_type": "code",
   "execution_count": 7,
   "id": "a975a200",
   "metadata": {},
   "outputs": [
    {
     "name": "stdout",
     "output_type": "stream",
     "text": [
      "Enter Eng Marks 43\n",
      "Enter Islamiat Marks 65\n",
      "Enter Maths Marks 87\n",
      "Enter Chemistry Marks 68\n",
      "Enter Physics Marks 98\n",
      "======== Marks Sheet =======\n",
      "Obtained Marks is :  361.0\n",
      "Total Marks is :  500\n",
      "Percentage is :  72.2\n",
      "Your grade is A\n"
     ]
    }
   ],
   "source": [
    "# 7. Write a program which takes 5 inputs from user for different subject’s marks, total it and generate mark sheet using grades\n",
    "\n",
    "eng=float(input(\"Enter Eng Marks \"))\n",
    "isl=float(input(\"Enter Islamiat Marks \"))\n",
    "maths=float(input(\"Enter Maths Marks \"))\n",
    "chem=float(input(\"Enter Chemistry Marks \"))\n",
    "phy=float(input(\"Enter Physics Marks \"))\n",
    "totalMarks=500\n",
    "percentage=(eng+isl+maths+chem+phy)/totalMarks*100\n",
    "\n",
    "print(\"======== Marks Sheet =======\")\n",
    "\n",
    "print(\"Obtained Marks is : \",eng+isl+maths+chem+phy)\n",
    "print(\"Total Marks is : \",totalMarks)\n",
    "print(\"Percentage is : \",percentage)\n",
    "if percentage>0 and percentage<100:\n",
    "    if percentage >= 90:\n",
    "        print(\"Your grade is A++\")\n",
    "    elif percentage >= 80:\n",
    "        print(\"Your grade is A+\")\n",
    "    elif percentage >= 70:\n",
    "        print(\"Your grade is A\")\n",
    "    elif percentage >= 60:\n",
    "        print(\"Your grade is B\")\n",
    "    elif percentage >= 50:\n",
    "        print(\"Your grade is C\")\n",
    "    elif percentage >= 40:\n",
    "        print(\"Your grade is D\")\n",
    "    elif percentage >= 33:\n",
    "        print(\"Your grade is E\")\n",
    "    else:\n",
    "        print(\"You are Failed\")"
   ]
  },
  {
   "cell_type": "code",
   "execution_count": 8,
   "id": "eb39e78b",
   "metadata": {},
   "outputs": [
    {
     "name": "stdout",
     "output_type": "stream",
     "text": [
      "Enter the number 23\n",
      "Number is Odd\n"
     ]
    }
   ],
   "source": [
    "# Q8 Write a program which take input from user and identify that the given number is even or odd?\n",
    "\n",
    "no=int(input(\"Enter the number \"))\n",
    "if no%2==0:\n",
    "    print(\"Number is Even \")\n",
    "else:\n",
    "    print(\"Number is Odd\")"
   ]
  },
  {
   "cell_type": "code",
   "execution_count": 9,
   "id": "56568417",
   "metadata": {},
   "outputs": [
    {
     "name": "stdout",
     "output_type": "stream",
     "text": [
      "Length of Array :  6\n"
     ]
    }
   ],
   "source": [
    "\n",
    "# Q9 Write a program which print the length of the list?\n",
    "\n",
    "arr=[1,2,3,4,6,7]\n",
    "print(\"Length of Array : \",len(arr))"
   ]
  },
  {
   "cell_type": "code",
   "execution_count": 10,
   "id": "7b3b09ba",
   "metadata": {},
   "outputs": [
    {
     "name": "stdout",
     "output_type": "stream",
     "text": [
      "The sum of numbers in list is :  23\n"
     ]
    }
   ],
   "source": [
    "# Q10.Write a Python program to sum all the numeric items in a list?\n",
    "\n",
    "arr1=[1,2,3,4,6,7]\n",
    "total=0\n",
    "for i in range(len(arr1)):\n",
    "    total+=arr1[i]\n",
    "\n",
    "print(\"The sum of numbers in list is : \",total)"
   ]
  },
  {
   "cell_type": "code",
   "execution_count": 11,
   "id": "f17daecb",
   "metadata": {},
   "outputs": [
    {
     "name": "stdout",
     "output_type": "stream",
     "text": [
      "The Largest value  is :  24\n"
     ]
    }
   ],
   "source": [
    "# Q11.Write a Python program to get the largest number from a numeric list.\n",
    "\n",
    "arr=[1,2,3,24,6,7]\n",
    "max=arr[0]\n",
    "for i in range(len(arr)):\n",
    "    if(max<arr[i]):\n",
    "        max=arr[i]\n",
    "\n",
    "print(\"The Largest value  is : \",max)\n"
   ]
  },
  {
   "cell_type": "code",
   "execution_count": 12,
   "id": "ff8651d4",
   "metadata": {},
   "outputs": [
    {
     "name": "stdout",
     "output_type": "stream",
     "text": [
      "The elements less than 5 :  [1, 1, 2, 3]\n"
     ]
    }
   ],
   "source": [
    "# Q12. Take a list, say for example this one: a = [1, 1, 2, 3, 5, 8, 13, 21, 34, 55, 89] Write a program that prints out all the elements of the list that are less than 5.\n",
    "\n",
    "a = [1, 1, 2, 3, 5, 8, 13, 21, 34, 55, 89]\n",
    "arr5=[]\n",
    "for i in range(len(a)):\n",
    "    if(a[i]<5):\n",
    "        arr5.append(a[i])\n",
    "print(\"The elements less than 5 : \",arr5)"
   ]
  },
  {
   "cell_type": "code",
   "execution_count": null,
   "id": "3f561b14",
   "metadata": {},
   "outputs": [],
   "source": []
  }
 ],
 "metadata": {
  "kernelspec": {
   "display_name": "Python 3",
   "language": "python",
   "name": "python3"
  },
  "language_info": {
   "codemirror_mode": {
    "name": "ipython",
    "version": 3
   },
   "file_extension": ".py",
   "mimetype": "text/x-python",
   "name": "python",
   "nbconvert_exporter": "python",
   "pygments_lexer": "ipython3",
   "version": "3.8.8"
  }
 },
 "nbformat": 4,
 "nbformat_minor": 5
}
